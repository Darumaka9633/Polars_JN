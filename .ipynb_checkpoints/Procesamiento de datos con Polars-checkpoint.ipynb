{
 "cells": [
  {
   "cell_type": "markdown",
   "id": "502bd5ac",
   "metadata": {},
   "source": [
    "# Análisis de datos eficiente con Python\n",
    "\n",
    "## Introducción\n",
    "\n",
    "En este tutorial, exploraremos Polars, Una de las características clave de Polar es su enfoque en la eficiencia computacional. Al utilizar representaciones polares en lugar de la representación estándar de números complejos, es posible realizar muchas operaciones de manera más eficiente, ya que las operaciones trigonométricas son más rápidas que las operaciones complejas.\n",
    "\n",
    "Además, Polar proporciona una serie de herramientas útiles para el procesamiento de señales, como la capacidad de filtrar señales, calcular la transformada de Fourier y realizar análisis espectrales. También se pueden realizar operaciones matemáticas y trigonométricas en números complejos con facilidad utilizando esta biblioteca.\n",
    "\n",
    "En general, Polar es una biblioteca útil para cualquier persona que trabaje con señales y sistemas dinámicos, y que busque una forma más eficiente de procesar números complejos en Python.\n",
    "\n",
    "## Índice\n",
    "1) Instalación de Polars\n",
    "2) Carga de datos\n",
    "3) Manipulación de datos\n",
    "4) Análisis exploratorio de datos\n",
    "5) Rendimiento y optimización\n",
    "6) Casos de uso\n",
    "7) Conclusiones y recursos adicionales"
   ]
  },
  {
   "cell_type": "markdown",
   "id": "812c30ee",
   "metadata": {},
   "source": [
    "## 1. Instalación Polars\n",
    "Para empezar, asegúrece de tener Polars instalado en tu entorno. Puedes hacerlo ejecutando el siguiente comando en tu terminal"
   ]
  },
  {
   "cell_type": "code",
   "execution_count": 2,
   "id": "c12ef363",
   "metadata": {},
   "outputs": [
    {
     "name": "stdout",
     "output_type": "stream",
     "text": [
      "Collecting polars\n",
      "  Downloading polars-0.17.13-cp37-abi3-win_amd64.whl (18.9 MB)\n",
      "     --------------------------------------- 18.9/18.9 MB 14.2 MB/s eta 0:00:00\n",
      "Installing collected packages: polars\n",
      "Successfully installed polars-0.17.13\n"
     ]
    }
   ],
   "source": [
    "! pip install polars\n"
   ]
  },
  {
   "cell_type": "markdown",
   "id": "9d210371",
   "metadata": {},
   "source": [
    "### Importar Polars\n",
    "Una vez que haya instalado Polars, puedes importarlo en tu notebook ejecutando la siguiente celda de código:\n"
   ]
  },
  {
   "cell_type": "code",
   "execution_count": 3,
   "id": "dbd4fd6c",
   "metadata": {},
   "outputs": [],
   "source": [
    "import polars as pl"
   ]
  },
  {
   "cell_type": "markdown",
   "id": "700eba7f",
   "metadata": {},
   "source": [
    "## 2. Cargar datos\n",
    "Para esta tarea crearemos un data frame como ejemplo y como manejar algunos datos"
   ]
  },
  {
   "cell_type": "code",
   "execution_count": 4,
   "id": "f76e53b0",
   "metadata": {},
   "outputs": [],
   "source": [
    "data = {\n",
    "    'nombre': ['ismael', 'mario', 'diego', 'francisco'],\n",
    "    'edad': [20, 19, 21, 30],\n",
    "    'carrera': ['Informática', 'ing.sistemas', 'Física', 'Química']\n",
    "}\n",
    "\n",
    "df = pl.DataFrame(data)\n"
   ]
  },
  {
   "cell_type": "markdown",
   "id": "dd025cc4",
   "metadata": {},
   "source": [
    "### Explorar el DataFrame\n",
    "Ahora que tenemos nuestro DataFrame, podemos explorar sus datos. Para mostrar el DataFrame en Jupyter Notebook, simplemente escribimos su nombre en una celda y lo ejecutamos:"
   ]
  },
  {
   "cell_type": "code",
   "execution_count": 5,
   "id": "bcd27271",
   "metadata": {},
   "outputs": [
    {
     "data": {
      "text/html": [
       "<div><style>\n",
       ".dataframe > thead > tr > th,\n",
       ".dataframe > tbody > tr > td {\n",
       "  text-align: right;\n",
       "}\n",
       "</style>\n",
       "<small>shape: (4, 3)</small><table border=\"1\" class=\"dataframe\"><thead><tr><th>nombre</th><th>edad</th><th>carrera</th></tr><tr><td>str</td><td>i64</td><td>str</td></tr></thead><tbody><tr><td>&quot;ismael&quot;</td><td>20</td><td>&quot;Informática&quot;</td></tr><tr><td>&quot;mario&quot;</td><td>19</td><td>&quot;ing.sistemas&quot;</td></tr><tr><td>&quot;diego&quot;</td><td>21</td><td>&quot;Física&quot;</td></tr><tr><td>&quot;francisco&quot;</td><td>30</td><td>&quot;Química&quot;</td></tr></tbody></table></div>"
      ],
      "text/plain": [
       "shape: (4, 3)\n",
       "┌───────────┬──────┬──────────────┐\n",
       "│ nombre    ┆ edad ┆ carrera      │\n",
       "│ ---       ┆ ---  ┆ ---          │\n",
       "│ str       ┆ i64  ┆ str          │\n",
       "╞═══════════╪══════╪══════════════╡\n",
       "│ ismael    ┆ 20   ┆ Informática  │\n",
       "│ mario     ┆ 19   ┆ ing.sistemas │\n",
       "│ diego     ┆ 21   ┆ Física       │\n",
       "│ francisco ┆ 30   ┆ Química      │\n",
       "└───────────┴──────┴──────────────┘"
      ]
     },
     "execution_count": 5,
     "metadata": {},
     "output_type": "execute_result"
    }
   ],
   "source": [
    "df"
   ]
  },
  {
   "cell_type": "markdown",
   "id": "3e586445",
   "metadata": {},
   "source": [
    "## 3. Manipulación de datos\n",
    "Polars proporciona una amplia gama de funciones para manipular y transformar datos. Veamos algunos ejemplos:\n",
    "\n",
    "Selección de columnas:\n"
   ]
  },
  {
   "cell_type": "code",
   "execution_count": 6,
   "id": "3651db76",
   "metadata": {},
   "outputs": [
    {
     "data": {
      "text/html": [
       "<div><style>\n",
       ".dataframe > thead > tr > th,\n",
       ".dataframe > tbody > tr > td {\n",
       "  text-align: right;\n",
       "}\n",
       "</style>\n",
       "<small>shape: (4, 2)</small><table border=\"1\" class=\"dataframe\"><thead><tr><th>nombre</th><th>edad</th></tr><tr><td>str</td><td>i64</td></tr></thead><tbody><tr><td>&quot;ismael&quot;</td><td>20</td></tr><tr><td>&quot;mario&quot;</td><td>19</td></tr><tr><td>&quot;diego&quot;</td><td>21</td></tr><tr><td>&quot;francisco&quot;</td><td>30</td></tr></tbody></table></div>"
      ],
      "text/plain": [
       "shape: (4, 2)\n",
       "┌───────────┬──────┐\n",
       "│ nombre    ┆ edad │\n",
       "│ ---       ┆ ---  │\n",
       "│ str       ┆ i64  │\n",
       "╞═══════════╪══════╡\n",
       "│ ismael    ┆ 20   │\n",
       "│ mario     ┆ 19   │\n",
       "│ diego     ┆ 21   │\n",
       "│ francisco ┆ 30   │\n",
       "└───────────┴──────┘"
      ]
     },
     "execution_count": 6,
     "metadata": {},
     "output_type": "execute_result"
    }
   ],
   "source": [
    "\n",
    "# Seleccionar una columna\n",
    "df.select(\"nombre\")\n",
    "\n",
    "# Seleccionar múltiples columnas\n",
    "df.select([\"nombre\", \"edad\"])"
   ]
  },
  {
   "cell_type": "markdown",
   "id": "db7fc96c",
   "metadata": {},
   "source": [
    "### filtro de datos"
   ]
  },
  {
   "cell_type": "code",
   "execution_count": 7,
   "id": "b3f42189",
   "metadata": {},
   "outputs": [
    {
     "data": {
      "text/html": [
       "<div><style>\n",
       ".dataframe > thead > tr > th,\n",
       ".dataframe > tbody > tr > td {\n",
       "  text-align: right;\n",
       "}\n",
       "</style>\n",
       "<small>shape: (2, 3)</small><table border=\"1\" class=\"dataframe\"><thead><tr><th>nombre</th><th>edad</th><th>carrera</th></tr><tr><td>str</td><td>i64</td><td>str</td></tr></thead><tbody><tr><td>&quot;diego&quot;</td><td>21</td><td>&quot;Física&quot;</td></tr><tr><td>&quot;francisco&quot;</td><td>30</td><td>&quot;Química&quot;</td></tr></tbody></table></div>"
      ],
      "text/plain": [
       "shape: (2, 3)\n",
       "┌───────────┬──────┬─────────┐\n",
       "│ nombre    ┆ edad ┆ carrera │\n",
       "│ ---       ┆ ---  ┆ ---     │\n",
       "│ str       ┆ i64  ┆ str     │\n",
       "╞═══════════╪══════╪═════════╡\n",
       "│ diego     ┆ 21   ┆ Física  │\n",
       "│ francisco ┆ 30   ┆ Química │\n",
       "└───────────┴──────┴─────────┘"
      ]
     },
     "execution_count": 7,
     "metadata": {},
     "output_type": "execute_result"
    }
   ],
   "source": [
    "# Filtrar por condición\n",
    "df.filter(pl.col(\"edad\") > 20)"
   ]
  },
  {
   "cell_type": "markdown",
   "id": "28852c90",
   "metadata": {},
   "source": [
    "### Agregación y resumen de datos"
   ]
  },
  {
   "cell_type": "code",
   "execution_count": 8,
   "id": "63f9acf3",
   "metadata": {},
   "outputs": [
    {
     "data": {
      "text/html": [
       "<div><style>\n",
       ".dataframe > thead > tr > th,\n",
       ".dataframe > tbody > tr > td {\n",
       "  text-align: right;\n",
       "}\n",
       "</style>\n",
       "<small>shape: (1, 3)</small><table border=\"1\" class=\"dataframe\"><thead><tr><th>nombre</th><th>edad</th><th>carrera</th></tr><tr><td>str</td><td>f64</td><td>u32</td></tr></thead><tbody><tr><td>null</td><td>22.5</td><td>4</td></tr></tbody></table></div>"
      ],
      "text/plain": [
       "shape: (1, 3)\n",
       "┌────────┬──────┬─────────┐\n",
       "│ nombre ┆ edad ┆ carrera │\n",
       "│ ---    ┆ ---  ┆ ---     │\n",
       "│ str    ┆ f64  ┆ u32     │\n",
       "╞════════╪══════╪═════════╡\n",
       "│ null   ┆ 22.5 ┆ 4       │\n",
       "└────────┴──────┴─────────┘"
      ]
     },
     "execution_count": 8,
     "metadata": {},
     "output_type": "execute_result"
    }
   ],
   "source": [
    "# Calcular suma, promedio y conteo\n",
    "df.select(pl.sum(\"nombre\"), pl.avg(\"edad\"), pl.count(\"carrera\"))"
   ]
  },
  {
   "cell_type": "markdown",
   "id": "2124780e",
   "metadata": {},
   "source": [
    "### Manejo de valores nulos:"
   ]
  },
  {
   "cell_type": "code",
   "execution_count": 9,
   "id": "cf4df890",
   "metadata": {},
   "outputs": [
    {
     "data": {
      "text/html": [
       "<div><style>\n",
       ".dataframe > thead > tr > th,\n",
       ".dataframe > tbody > tr > td {\n",
       "  text-align: right;\n",
       "}\n",
       "</style>\n",
       "<small>shape: (0, 3)</small><table border=\"1\" class=\"dataframe\"><thead><tr><th>nombre</th><th>edad</th><th>carrera</th></tr><tr><td>str</td><td>i64</td><td>str</td></tr></thead><tbody></tbody></table></div>"
      ],
      "text/plain": [
       "shape: (0, 3)\n",
       "┌────────┬──────┬─────────┐\n",
       "│ nombre ┆ edad ┆ carrera │\n",
       "│ ---    ┆ ---  ┆ ---     │\n",
       "│ str    ┆ i64  ┆ str     │\n",
       "╞════════╪══════╪═════════╡\n",
       "└────────┴──────┴─────────┘"
      ]
     },
     "execution_count": 9,
     "metadata": {},
     "output_type": "execute_result"
    }
   ],
   "source": [
    "# Filtrar filas con valores nulos\n",
    "df.filter(pl.col(\"edad\").is_null())\n"
   ]
  },
  {
   "cell_type": "markdown",
   "id": "042e1677",
   "metadata": {},
   "source": [
    "## 4. Análisis exploratorio de datos\n",
    "Polars nos permite realizar análisis exploratorio de datos de manera sencilla. Veamos algunos ejemplos:\n",
    "\n",
    "- Estadísticas descriptivas\n",
    "- Visualización de datos utilizando bibliotecas externas\n",
    "- Creación de gráficos utilizando Polars\n",
    "- Ordenación y clasificación de datos\n",
    "\n",
    "\n"
   ]
  },
  {
   "cell_type": "code",
   "execution_count": 10,
   "id": "463b25a3",
   "metadata": {},
   "outputs": [
    {
     "data": {
      "text/html": [
       "<div><style>\n",
       ".dataframe > thead > tr > th,\n",
       ".dataframe > tbody > tr > td {\n",
       "  text-align: right;\n",
       "}\n",
       "</style>\n",
       "<small>shape: (9, 4)</small><table border=\"1\" class=\"dataframe\"><thead><tr><th>describe</th><th>nombre</th><th>edad</th><th>carrera</th></tr><tr><td>str</td><td>str</td><td>f64</td><td>str</td></tr></thead><tbody><tr><td>&quot;count&quot;</td><td>&quot;4&quot;</td><td>4.0</td><td>&quot;4&quot;</td></tr><tr><td>&quot;null_count&quot;</td><td>&quot;0&quot;</td><td>0.0</td><td>&quot;0&quot;</td></tr><tr><td>&quot;mean&quot;</td><td>null</td><td>22.5</td><td>null</td></tr><tr><td>&quot;std&quot;</td><td>null</td><td>5.066228</td><td>null</td></tr><tr><td>&quot;min&quot;</td><td>&quot;diego&quot;</td><td>19.0</td><td>&quot;Física&quot;</td></tr><tr><td>&quot;max&quot;</td><td>&quot;mario&quot;</td><td>30.0</td><td>&quot;ing.sistemas&quot;</td></tr><tr><td>&quot;median&quot;</td><td>null</td><td>20.5</td><td>null</td></tr><tr><td>&quot;25%&quot;</td><td>null</td><td>20.0</td><td>null</td></tr><tr><td>&quot;75%&quot;</td><td>null</td><td>30.0</td><td>null</td></tr></tbody></table></div>"
      ],
      "text/plain": [
       "shape: (9, 4)\n",
       "┌────────────┬────────┬──────────┬──────────────┐\n",
       "│ describe   ┆ nombre ┆ edad     ┆ carrera      │\n",
       "│ ---        ┆ ---    ┆ ---      ┆ ---          │\n",
       "│ str        ┆ str    ┆ f64      ┆ str          │\n",
       "╞════════════╪════════╪══════════╪══════════════╡\n",
       "│ count      ┆ 4      ┆ 4.0      ┆ 4            │\n",
       "│ null_count ┆ 0      ┆ 0.0      ┆ 0            │\n",
       "│ mean       ┆ null   ┆ 22.5     ┆ null         │\n",
       "│ std        ┆ null   ┆ 5.066228 ┆ null         │\n",
       "│ min        ┆ diego  ┆ 19.0     ┆ Física       │\n",
       "│ max        ┆ mario  ┆ 30.0     ┆ ing.sistemas │\n",
       "│ median     ┆ null   ┆ 20.5     ┆ null         │\n",
       "│ 25%        ┆ null   ┆ 20.0     ┆ null         │\n",
       "│ 75%        ┆ null   ┆ 30.0     ┆ null         │\n",
       "└────────────┴────────┴──────────┴──────────────┘"
      ]
     },
     "execution_count": 10,
     "metadata": {},
     "output_type": "execute_result"
    }
   ],
   "source": [
    "# Calcular estadísticas descriptivas básicas\n",
    "df.describe()"
   ]
  },
  {
   "cell_type": "code",
   "execution_count": 11,
   "id": "5a74a039",
   "metadata": {},
   "outputs": [
    {
     "data": {
      "text/html": [
       "<div><style>\n",
       ".dataframe > thead > tr > th,\n",
       ".dataframe > tbody > tr > td {\n",
       "  text-align: right;\n",
       "}\n",
       "</style>\n",
       "<small>shape: (4, 3)</small><table border=\"1\" class=\"dataframe\"><thead><tr><th>nombre</th><th>edad</th><th>carrera</th></tr><tr><td>str</td><td>i64</td><td>str</td></tr></thead><tbody><tr><td>&quot;mario&quot;</td><td>19</td><td>&quot;ing.sistemas&quot;</td></tr><tr><td>&quot;ismael&quot;</td><td>20</td><td>&quot;Informática&quot;</td></tr><tr><td>&quot;diego&quot;</td><td>21</td><td>&quot;Física&quot;</td></tr><tr><td>&quot;francisco&quot;</td><td>30</td><td>&quot;Química&quot;</td></tr></tbody></table></div>"
      ],
      "text/plain": [
       "shape: (4, 3)\n",
       "┌───────────┬──────┬──────────────┐\n",
       "│ nombre    ┆ edad ┆ carrera      │\n",
       "│ ---       ┆ ---  ┆ ---          │\n",
       "│ str       ┆ i64  ┆ str          │\n",
       "╞═══════════╪══════╪══════════════╡\n",
       "│ mario     ┆ 19   ┆ ing.sistemas │\n",
       "│ ismael    ┆ 20   ┆ Informática  │\n",
       "│ diego     ┆ 21   ┆ Física       │\n",
       "│ francisco ┆ 30   ┆ Química      │\n",
       "└───────────┴──────┴──────────────┘"
      ]
     },
     "execution_count": 11,
     "metadata": {},
     "output_type": "execute_result"
    }
   ],
   "source": [
    "# Ordenar DataFrame por una columna\n",
    "df.sort(\"edad\")\n",
    "\n",
    "# Clasificar DataFrame en base a múltiples columnas\n",
    "df.sort(by=[\"edad\", \"carrera\"])"
   ]
  },
  {
   "cell_type": "code",
   "execution_count": 12,
   "id": "86f2181a",
   "metadata": {},
   "outputs": [
    {
     "data": {
      "image/png": "[encoded data removed]",
      "text/plain": [
       "<Figure size 640x480 with 1 Axes>"
      ]
     },
     "metadata": {},
     "output_type": "display_data"
    }
   ],
   "source": [
    "import matplotlib.pyplot as plt\n",
    "import polars as pl\n",
    "\n",
    "# Crear DataFrame de ejemplo\n",
    "data = {'edad': [25, 30, 20],\n",
    "        'carrera': ['Informática', 'Matemáticas', 'Física']}\n",
    "df = pl.DataFrame(data)\n",
    "\n",
    "# Obtener los valores de las columnas como listas\n",
    "edad_values = df['edad'].to_list()\n",
    "carrera_values = df['carrera'].to_list()\n",
    "\n",
    "# Crear el gráfico de barras\n",
    "plt.bar(edad_values, carrera_values)\n",
    "plt.xlabel(\"Edad\")\n",
    "plt.ylabel(\"Carrera\")\n",
    "plt.title(\"Gráfico de barras\")\n",
    "plt.show()\n"
   ]
  },
  {
   "cell_type": "code",
   "execution_count": 32,
   "id": "7dff82c7",
   "metadata": {},
   "outputs": [
    {
     "data": {
      "image/png": "[encoded data removed]",
      "text/plain": [
       "<Figure size 640x480 with 1 Axes>"
      ]
     },
     "metadata": {},
     "output_type": "display_data"
    }
   ],
   "source": [
    "import matplotlib.pyplot as plt\n",
    "import polars as pl\n",
    "\n",
    "# Crear DataFrame de ejemplo\n",
    "data = {'edad': [25, 30, 20],\n",
    "        'carrera': ['Informática', 'Matemáticas', 'Física']}\n",
    "df = pl.DataFrame(data)\n",
    "\n",
    "# Obtener los valores de las columnas como listas\n",
    "edad_values = df['edad'].to_list()\n",
    "carrera_values = df['carrera'].to_list()\n",
    "\n",
    "# Crear el gráfico de dispersión\n",
    "plt.scatter(edad_values, carrera_values)\n",
    "plt.xlabel(\"Edad\")\n",
    "plt.ylabel(\"Carrera\")\n",
    "plt.title(\"Gráfico de dispersión\")\n",
    "plt.show()"
   ]
  },
  {
   "cell_type": "markdown",
   "id": "af353e23",
   "metadata": {},
   "source": [
    "### 4.1 Ejemplo aplicativo\n",
    "En este caso analizaremos un conjunto de datos "
   ]
  },
  {
   "cell_type": "code",
   "execution_count": 2,
   "id": "e6149366",
   "metadata": {},
   "outputs": [
    {
     "data": {
      "text/html": [
       "<div><style>\n",
       ".dataframe > thead > tr > th,\n",
       ".dataframe > tbody > tr > td {\n",
       "  text-align: right;\n",
       "}\n",
       "</style>\n",
       "<small>shape: (163_199, 16)</small><table border=\"1\" class=\"dataframe\"><thead><tr><th>Código</th><th>Año Matrícula</th><th>Período</th><th>Tipo de hecho</th><th>Género</th><th>Nacionalidad</th><th>Año Nacimiento</th><th>Departamento\n",
       "Colegio</th><th>Distrito\n",
       "Residencia</th><th>Provincia\n",
       "Residencia</th><th>Departamento\n",
       "Residencia</th><th>Modalidad</th><th>Metodologia</th><th>Facultad</th><th>Especialidad</th><th>Ciclo Relativo</th></tr><tr><td>str</td><td>i64</td><td>i64</td><td>str</td><td>str</td><td>str</td><td>i64</td><td>str</td><td>str</td><td>str</td><td>str</td><td>str</td><td>str</td><td>str</td><td>str</td><td>i64</td></tr></thead><tbody><tr><td>&quot;eb983f187c0f48…</td><td>2016</td><td>1</td><td>&quot;REGULARES&quot;</td><td>&quot;MASCULINO&quot;</td><td>&quot;Peru&quot;</td><td>1967</td><td>&quot;LIMA&quot;</td><td>&quot;EL AGUSTINO&quot;</td><td>&quot;LIMA&quot;</td><td>&quot;LIMA&quot;</td><td>&quot;Pregrado&quot;</td><td>&quot;Presencial&quot;</td><td>&quot;ARQUITECTURA, …</td><td>&quot;ARQUITECTURA&quot;</td><td>10</td></tr><tr><td>&quot;000e2d0dcb4eaf…</td><td>2016</td><td>1</td><td>&quot;REGULARES&quot;</td><td>&quot;MASCULINO&quot;</td><td>&quot;Peru&quot;</td><td>1955</td><td>&quot;LIMA&quot;</td><td>&quot;CHACLACAYO&quot;</td><td>&quot;LIMA&quot;</td><td>&quot;LIMA&quot;</td><td>&quot;Pregrado&quot;</td><td>&quot;Presencial&quot;</td><td>&quot;INGENIERÍA ELÉ…</td><td>&quot;INGENIERÍA ELÉ…</td><td>9</td></tr><tr><td>&quot;fe34019137bdfa…</td><td>2016</td><td>1</td><td>&quot;REGULARES&quot;</td><td>&quot;MASCULINO&quot;</td><td>&quot;Peru&quot;</td><td>1970</td><td>&quot;LIMA&quot;</td><td>&quot;INDEPENDENCIA&quot;</td><td>&quot;LIMA&quot;</td><td>&quot;LIMA&quot;</td><td>&quot;Pregrado&quot;</td><td>&quot;Presencial&quot;</td><td>&quot;INGENIERÍA ECO…</td><td>&quot;INGENIERÍA ECO…</td><td>2</td></tr><tr><td>&quot;133807cb215cc4…</td><td>2016</td><td>1</td><td>&quot;REGULARES&quot;</td><td>&quot;MASCULINO&quot;</td><td>&quot;Peru&quot;</td><td>1971</td><td>&quot;LIMA&quot;</td><td>null</td><td>null</td><td>&quot;AMAZONAS&quot;</td><td>&quot;Pregrado&quot;</td><td>&quot;Presencial&quot;</td><td>&quot;INGENIERÍA ELÉ…</td><td>&quot;INGENIERÍA ELE…</td><td>10</td></tr><tr><td>&quot;a0ae32c60ce685…</td><td>2016</td><td>1</td><td>&quot;REGULARES&quot;</td><td>&quot;MASCULINO&quot;</td><td>&quot;Peru&quot;</td><td>1957</td><td>&quot;LIMA&quot;</td><td>null</td><td>null</td><td>&quot;AMAZONAS&quot;</td><td>&quot;Pregrado&quot;</td><td>&quot;Presencial&quot;</td><td>&quot;INGENIERÍA ELÉ…</td><td>&quot;INGENIERÍA ELE…</td><td>2</td></tr><tr><td>&quot;c46e619b7db76f…</td><td>2016</td><td>1</td><td>&quot;REGULARES&quot;</td><td>&quot;MASCULINO&quot;</td><td>&quot;Peru&quot;</td><td>1961</td><td>&quot;JUNIN&quot;</td><td>&quot;LIMA&quot;</td><td>&quot;LIMA&quot;</td><td>&quot;LIMA&quot;</td><td>&quot;Pregrado&quot;</td><td>&quot;Presencial&quot;</td><td>&quot;CIENCIAS&quot;</td><td>&quot;QUÍMICA&quot;</td><td>9</td></tr><tr><td>&quot;6730f8d00de687…</td><td>2016</td><td>1</td><td>&quot;REGULARES&quot;</td><td>&quot;FEMENINO&quot;</td><td>&quot;Peru&quot;</td><td>1961</td><td>null</td><td>null</td><td>null</td><td>null</td><td>&quot;Pregrado&quot;</td><td>&quot;Presencial&quot;</td><td>&quot;INGENIERÍA IND…</td><td>&quot;INGENIERÍA IND…</td><td>6</td></tr><tr><td>&quot;d78c18cd167805…</td><td>2016</td><td>1</td><td>&quot;REGULARES&quot;</td><td>&quot;MASCULINO&quot;</td><td>&quot;Peru&quot;</td><td>1971</td><td>&quot;JUNIN&quot;</td><td>&quot;CARABAYLLO&quot;</td><td>&quot;LIMA&quot;</td><td>&quot;LIMA&quot;</td><td>&quot;Pregrado&quot;</td><td>&quot;Presencial&quot;</td><td>&quot;INGENIERÍA ELÉ…</td><td>&quot;INGENIERÍA ELÉ…</td><td>7</td></tr><tr><td>&quot;b851d837273277…</td><td>2016</td><td>1</td><td>&quot;REGULARES&quot;</td><td>&quot;MASCULINO&quot;</td><td>&quot;Peru&quot;</td><td>1965</td><td>&quot;LIMA&quot;</td><td>null</td><td>null</td><td>&quot;AMAZONAS&quot;</td><td>&quot;Pregrado&quot;</td><td>&quot;Presencial&quot;</td><td>&quot;INGENIERÍA ECO…</td><td>&quot;INGENIERÍA ECO…</td><td>10</td></tr><tr><td>&quot;00e9b7667b5b11…</td><td>2016</td><td>1</td><td>&quot;REGULARES&quot;</td><td>&quot;MASCULINO&quot;</td><td>&quot;Peru&quot;</td><td>1967</td><td>&quot;LIMA&quot;</td><td>null</td><td>null</td><td>null</td><td>&quot;Pregrado&quot;</td><td>&quot;Presencial&quot;</td><td>&quot;ARQUITECTURA, …</td><td>&quot;ARQUITECTURA&quot;</td><td>3</td></tr><tr><td>&quot;0be12e760d78cb…</td><td>2016</td><td>1</td><td>&quot;REGULARES&quot;</td><td>&quot;MASCULINO&quot;</td><td>&quot;Peru&quot;</td><td>1976</td><td>&quot;LIMA&quot;</td><td>null</td><td>null</td><td>&quot;AMAZONAS&quot;</td><td>&quot;Pregrado&quot;</td><td>&quot;Presencial&quot;</td><td>&quot;CIENCIAS&quot;</td><td>&quot;QUÍMICA&quot;</td><td>10</td></tr><tr><td>&quot;515d058a88f02e…</td><td>2016</td><td>1</td><td>&quot;REGULARES&quot;</td><td>&quot;FEMENINO&quot;</td><td>&quot;Peru&quot;</td><td>1978</td><td>&quot;LIMA&quot;</td><td>&quot;AMAZONAS&quot;</td><td>&quot;AMAZONAS&quot;</td><td>&quot;AMAZONAS&quot;</td><td>&quot;Pregrado&quot;</td><td>&quot;Presencial&quot;</td><td>&quot;INGENIERÍA QUÍ…</td><td>&quot;INGENIERÍA QUÍ…</td><td>7</td></tr><tr><td>&hellip;</td><td>&hellip;</td><td>&hellip;</td><td>&hellip;</td><td>&hellip;</td><td>&hellip;</td><td>&hellip;</td><td>&hellip;</td><td>&hellip;</td><td>&hellip;</td><td>&hellip;</td><td>&hellip;</td><td>&hellip;</td><td>&hellip;</td><td>&hellip;</td><td>&hellip;</td></tr><tr><td>&quot;c0bc36ec81efe9…</td><td>2022</td><td>2</td><td>&quot;CACHIMBOS&quot;</td><td>&quot;MASCULINO&quot;</td><td>&quot;Peru&quot;</td><td>2003</td><td>null</td><td>null</td><td>null</td><td>null</td><td>&quot;Pregrado&quot;</td><td>&quot;Presencial&quot;</td><td>&quot;INGENIERÍA IND…</td><td>&quot;INGENIERÍA IND…</td><td>1</td></tr><tr><td>&quot;926b109c79617f…</td><td>2022</td><td>2</td><td>&quot;CACHIMBOS&quot;</td><td>&quot;MASCULINO&quot;</td><td>&quot;Peru&quot;</td><td>2001</td><td>null</td><td>null</td><td>null</td><td>null</td><td>&quot;Pregrado&quot;</td><td>&quot;Presencial&quot;</td><td>&quot;INGENIERÍA CIV…</td><td>&quot;INGENIERÍA CIV…</td><td>1</td></tr><tr><td>&quot;d41c4e8ae8934e…</td><td>2022</td><td>2</td><td>&quot;CACHIMBOS&quot;</td><td>&quot;FEMENINO&quot;</td><td>&quot;Peru&quot;</td><td>2005</td><td>&quot;LIMA&quot;</td><td>&quot;VILLA EL SALVA…</td><td>&quot;LIMA&quot;</td><td>&quot;LIMA&quot;</td><td>&quot;Pregrado&quot;</td><td>&quot;Presencial&quot;</td><td>&quot;INGENIERÍA ECO…</td><td>&quot;INGENIERÍA ECO…</td><td>1</td></tr><tr><td>&quot;e55d6b15595509…</td><td>2022</td><td>2</td><td>&quot;CACHIMBOS&quot;</td><td>&quot;MASCULINO&quot;</td><td>&quot;Peru&quot;</td><td>2001</td><td>null</td><td>null</td><td>null</td><td>null</td><td>&quot;Pregrado&quot;</td><td>&quot;Presencial&quot;</td><td>&quot;INGENIERÍA MEC…</td><td>&quot;INGENIERÍA MEC…</td><td>1</td></tr><tr><td>&quot;7dae2328cb9896…</td><td>2022</td><td>2</td><td>&quot;CACHIMBOS&quot;</td><td>&quot;MASCULINO&quot;</td><td>&quot;Peru&quot;</td><td>2002</td><td>null</td><td>null</td><td>null</td><td>null</td><td>&quot;Pregrado&quot;</td><td>&quot;Presencial&quot;</td><td>&quot;INGENIERÍA MEC…</td><td>&quot;INGENIERÍA MEC…</td><td>1</td></tr><tr><td>&quot;a27e510a067ddb…</td><td>2022</td><td>2</td><td>&quot;CACHIMBOS&quot;</td><td>&quot;MASCULINO&quot;</td><td>&quot;Chile&quot;</td><td>2004</td><td>&quot;LIMA&quot;</td><td>&quot;SAN MARTIN DE …</td><td>&quot;LIMA&quot;</td><td>&quot;LIMA&quot;</td><td>&quot;Pregrado&quot;</td><td>&quot;Presencial&quot;</td><td>&quot;CIENCIAS&quot;</td><td>&quot;MATEMÁTICA&quot;</td><td>1</td></tr><tr><td>&quot;cd0dc33a263191…</td><td>2022</td><td>2</td><td>&quot;REGULARES&quot;</td><td>&quot;MASCULINO&quot;</td><td>&quot;Peru&quot;</td><td>2001</td><td>&quot;LIMA&quot;</td><td>&quot;CHORRILLOS&quot;</td><td>&quot;LIMA&quot;</td><td>&quot;LIMA&quot;</td><td>&quot;Pregrado&quot;</td><td>&quot;Presencial&quot;</td><td>&quot;INGENIERÍA IND…</td><td>&quot;INGENIERÍA DE …</td><td>1</td></tr><tr><td>&quot;a6647c6c5b46f9…</td><td>2022</td><td>2</td><td>&quot;CACHIMBOS&quot;</td><td>&quot;MASCULINO&quot;</td><td>&quot;Peru&quot;</td><td>2004</td><td>&quot;LIMA&quot;</td><td>&quot;SAN JUAN DE LU…</td><td>&quot;LIMA&quot;</td><td>&quot;LIMA&quot;</td><td>&quot;Pregrado&quot;</td><td>&quot;Presencial&quot;</td><td>&quot;CIENCIAS&quot;</td><td>&quot;INGENIERÍA FÍS…</td><td>1</td></tr><tr><td>&quot;7bfd981867bbc8…</td><td>2022</td><td>2</td><td>&quot;CACHIMBOS&quot;</td><td>&quot;MASCULINO&quot;</td><td>&quot;Peru&quot;</td><td>2004</td><td>&quot;AREQUIPA&quot;</td><td>&quot;COMAS&quot;</td><td>&quot;LIMA&quot;</td><td>&quot;LIMA&quot;</td><td>&quot;Pregrado&quot;</td><td>&quot;Presencial&quot;</td><td>&quot;INGENIERÍA ECO…</td><td>&quot;INGENIERÍA EST…</td><td>1</td></tr><tr><td>&quot;06f2fae0161128…</td><td>2022</td><td>2</td><td>&quot;CACHIMBOS&quot;</td><td>&quot;MASCULINO&quot;</td><td>&quot;Peru&quot;</td><td>2004</td><td>&quot;LIMA&quot;</td><td>&quot;SAN JUAN DE MI…</td><td>&quot;LIMA&quot;</td><td>&quot;LIMA&quot;</td><td>&quot;Pregrado&quot;</td><td>&quot;Presencial&quot;</td><td>&quot;CIENCIAS&quot;</td><td>&quot;QUÍMICA&quot;</td><td>1</td></tr><tr><td>&quot;9e4ae56022abcd…</td><td>2022</td><td>2</td><td>&quot;CACHIMBOS&quot;</td><td>&quot;FEMENINO&quot;</td><td>&quot;Peru&quot;</td><td>2004</td><td>&quot;LIMA&quot;</td><td>&quot;BREÑA&quot;</td><td>&quot;LIMA&quot;</td><td>&quot;LIMA&quot;</td><td>&quot;Pregrado&quot;</td><td>&quot;Presencial&quot;</td><td>&quot;ARQUITECTURA, …</td><td>&quot;ARQUITECTURA&quot;</td><td>1</td></tr><tr><td>&quot;d4e3c646d90482…</td><td>2022</td><td>2</td><td>&quot;CACHIMBOS&quot;</td><td>&quot;FEMENINO&quot;</td><td>&quot;Peru&quot;</td><td>1999</td><td>&quot;LIMA&quot;</td><td>&quot;ATE&quot;</td><td>&quot;LIMA&quot;</td><td>&quot;LIMA&quot;</td><td>&quot;Pregrado&quot;</td><td>&quot;Presencial&quot;</td><td>&quot;CIENCIAS&quot;</td><td>&quot;CIENCIA DE LA …</td><td>1</td></tr></tbody></table></div>"
      ],
      "text/plain": [
       "shape: (163_199, 16)\n",
       "┌──────────────────┬───────────┬─────────┬───────────┬───┬─────────────┬──────────────────┬─────────────────┬──────────┐\n",
       "│ Código           ┆ Año       ┆ Período ┆ Tipo de   ┆ … ┆ Metodologia ┆ Facultad         ┆ Especialidad    ┆ Ciclo    │\n",
       "│ ---              ┆ Matrícula ┆ ---     ┆ hecho     ┆   ┆ ---         ┆ ---              ┆ ---             ┆ Relativo │\n",
       "│ str              ┆ ---       ┆ i64     ┆ ---       ┆   ┆ str         ┆ str              ┆ str             ┆ ---      │\n",
       "│                  ┆ i64       ┆         ┆ str       ┆   ┆             ┆                  ┆                 ┆ i64      │\n",
       "╞══════════════════╪═══════════╪═════════╪═══════════╪═══╪═════════════╪══════════════════╪═════════════════╪══════════╡\n",
       "│ eb983f187c0f481b ┆ 2016      ┆ 1       ┆ REGULARES ┆ … ┆ Presencial  ┆ ARQUITECTURA,    ┆ ARQUITECTURA    ┆ 10       │\n",
       "│ e4aa97cbd3ce6613 ┆           ┆         ┆           ┆   ┆             ┆ URBANISMO Y      ┆                 ┆          │\n",
       "│ …                ┆           ┆         ┆           ┆   ┆             ┆ ARTES            ┆                 ┆          │\n",
       "│ 000e2d0dcb4eaf37 ┆ 2016      ┆ 1       ┆ REGULARES ┆ … ┆ Presencial  ┆ INGENIERÍA       ┆ INGENIERÍA      ┆ 9        │\n",
       "│ bb6851c82364f8fb ┆           ┆         ┆           ┆   ┆             ┆ ELÉCTRICA Y      ┆ ELÉCTRICA       ┆          │\n",
       "│ …                ┆           ┆         ┆           ┆   ┆             ┆ ELECTRÓNI…       ┆                 ┆          │\n",
       "│ fe34019137bdfad9 ┆ 2016      ┆ 1       ┆ REGULARES ┆ … ┆ Presencial  ┆ INGENIERÍA       ┆ INGENIERÍA      ┆ 2        │\n",
       "│ 083af4f91290e7bb ┆           ┆         ┆           ┆   ┆             ┆ ECONÓMICA,       ┆ ECONÓMICA       ┆          │\n",
       "│ …                ┆           ┆         ┆           ┆   ┆             ┆ ESTADÍSTIC…      ┆                 ┆          │\n",
       "│ 133807cb215cc40e ┆ 2016      ┆ 1       ┆ REGULARES ┆ … ┆ Presencial  ┆ INGENIERÍA       ┆ INGENIERÍA      ┆ 10       │\n",
       "│ 95f7ad419f8d4e0e ┆           ┆         ┆           ┆   ┆             ┆ ELÉCTRICA Y      ┆ ELECTRÓNICA     ┆          │\n",
       "│ …                ┆           ┆         ┆           ┆   ┆             ┆ ELECTRÓNI…       ┆                 ┆          │\n",
       "│ …                ┆ …         ┆ …       ┆ …         ┆ … ┆ …           ┆ …                ┆ …               ┆ …        │\n",
       "│ 7bfd981867bbc8f8 ┆ 2022      ┆ 2       ┆ CACHIMBOS ┆ … ┆ Presencial  ┆ INGENIERÍA       ┆ INGENIERÍA      ┆ 1        │\n",
       "│ b652378a9b835631 ┆           ┆         ┆           ┆   ┆             ┆ ECONÓMICA,       ┆ ESTADÍSTICA     ┆          │\n",
       "│ …                ┆           ┆         ┆           ┆   ┆             ┆ ESTADÍSTIC…      ┆                 ┆          │\n",
       "│ 06f2fae0161128b5 ┆ 2022      ┆ 2       ┆ CACHIMBOS ┆ … ┆ Presencial  ┆ CIENCIAS         ┆ QUÍMICA         ┆ 1        │\n",
       "│ 46fde8d687ea007f ┆           ┆         ┆           ┆   ┆             ┆                  ┆                 ┆          │\n",
       "│ …                ┆           ┆         ┆           ┆   ┆             ┆                  ┆                 ┆          │\n",
       "│ 9e4ae56022abcdd3 ┆ 2022      ┆ 2       ┆ CACHIMBOS ┆ … ┆ Presencial  ┆ ARQUITECTURA,    ┆ ARQUITECTURA    ┆ 1        │\n",
       "│ 7395f5ee8418ea32 ┆           ┆         ┆           ┆   ┆             ┆ URBANISMO Y      ┆                 ┆          │\n",
       "│ …                ┆           ┆         ┆           ┆   ┆             ┆ ARTES            ┆                 ┆          │\n",
       "│ d4e3c646d90482fc ┆ 2022      ┆ 2       ┆ CACHIMBOS ┆ … ┆ Presencial  ┆ CIENCIAS         ┆ CIENCIA DE LA   ┆ 1        │\n",
       "│ bb1d13b11bf60f77 ┆           ┆         ┆           ┆   ┆             ┆                  ┆ COMPUTACIÓN     ┆          │\n",
       "│ …                ┆           ┆         ┆           ┆   ┆             ┆                  ┆                 ┆          │\n",
       "└──────────────────┴───────────┴─────────┴───────────┴───┴─────────────┴──────────────────┴─────────────────┴──────────┘"
      ]
     },
     "execution_count": 2,
     "metadata": {},
     "output_type": "execute_result"
    }
   ],
   "source": [
    "import polars as pl\n",
    "data = pl.read_csv(\"Matriculados_2016_al_2022.csv\")\n",
    "data"
   ]
  },
  {
   "cell_type": "code",
   "execution_count": 11,
   "id": "779de4b0",
   "metadata": {
    "scrolled": true
   },
   "outputs": [
    {
     "data": {
      "text/html": [
       "<div><style>\n",
       ".dataframe > thead > tr > th,\n",
       ".dataframe > tbody > tr > td {\n",
       "  text-align: right;\n",
       "}\n",
       "</style>\n",
       "<small>shape: (9, 17)</small><table border=\"1\" class=\"dataframe\"><thead><tr><th>describe</th><th>Código</th><th>Año Matrícula</th><th>Período</th><th>Tipo de hecho</th><th>Género</th><th>Nacionalidad</th><th>Año Nacimiento</th><th>Departamento\n",
       "Colegio</th><th>Distrito\n",
       "Residencia</th><th>Provincia\n",
       "Residencia</th><th>Departamento\n",
       "Residencia</th><th>Modalidad</th><th>Metodologia</th><th>Facultad</th><th>Especialidad</th><th>Ciclo Relativo</th></tr><tr><td>str</td><td>str</td><td>f64</td><td>f64</td><td>str</td><td>str</td><td>str</td><td>f64</td><td>str</td><td>str</td><td>str</td><td>str</td><td>str</td><td>str</td><td>str</td><td>str</td><td>f64</td></tr></thead><tbody><tr><td>&quot;count&quot;</td><td>&quot;163199&quot;</td><td>163199.0</td><td>163199.0</td><td>&quot;163199&quot;</td><td>&quot;163199&quot;</td><td>&quot;163199&quot;</td><td>163199.0</td><td>&quot;163199&quot;</td><td>&quot;163199&quot;</td><td>&quot;163199&quot;</td><td>&quot;163199&quot;</td><td>&quot;163199&quot;</td><td>&quot;163199&quot;</td><td>&quot;163199&quot;</td><td>&quot;163199&quot;</td><td>163199.0</td></tr><tr><td>&quot;null_count&quot;</td><td>&quot;0&quot;</td><td>0.0</td><td>0.0</td><td>&quot;0&quot;</td><td>&quot;268&quot;</td><td>&quot;2335&quot;</td><td>0.0</td><td>&quot;6354&quot;</td><td>&quot;35394&quot;</td><td>&quot;34574&quot;</td><td>&quot;7388&quot;</td><td>&quot;0&quot;</td><td>&quot;0&quot;</td><td>&quot;0&quot;</td><td>&quot;0&quot;</td><td>0.0</td></tr><tr><td>&quot;mean&quot;</td><td>null</td><td>2018.968744</td><td>1.497282</td><td>null</td><td>null</td><td>null</td><td>1990.605341</td><td>null</td><td>null</td><td>null</td><td>null</td><td>null</td><td>null</td><td>null</td><td>null</td><td>5.282863</td></tr><tr><td>&quot;std&quot;</td><td>null</td><td>1.986794</td><td>0.499994</td><td>null</td><td>null</td><td>null</td><td>96.982634</td><td>null</td><td>null</td><td>null</td><td>null</td><td>null</td><td>null</td><td>null</td><td>null</td><td>3.088709</td></tr><tr><td>&quot;min&quot;</td><td>&quot;00000e46ea0c41…</td><td>2016.0</td><td>1.0</td><td>&quot;CACHIMBOS&quot;</td><td>&quot;FEMENINO&quot;</td><td>&quot;Alemania&quot;</td><td>0.0</td><td>&quot;AMAZONAS&quot;</td><td>&quot;ABANCAY&quot;</td><td>&quot;ABANCAY&quot;</td><td>&quot;AMAZONAS&quot;</td><td>&quot;Pregrado&quot;</td><td>&quot;Presencial&quot;</td><td>&quot;ARQUITECTURA, …</td><td>&quot;ARQUITECTURA&quot;</td><td>1.0</td></tr><tr><td>&quot;max&quot;</td><td>&quot;fffbb8243bb190…</td><td>2022.0</td><td>2.0</td><td>&quot;TRASLADO INTER…</td><td>&quot;MASCULINO&quot;</td><td>&quot;rusia&quot;</td><td>2006.0</td><td>&quot;UCAYALI&quot;</td><td>&quot;ZUÑIGA&quot;</td><td>&quot;YUNGAY&quot;</td><td>&quot;UCAYALI&quot;</td><td>&quot;Pregrado&quot;</td><td>&quot;Presencial&quot;</td><td>&quot;INGENIERÍA QUÍ…</td><td>&quot;QUÍMICA&quot;</td><td>10.0</td></tr><tr><td>&quot;median&quot;</td><td>null</td><td>2019.0</td><td>1.0</td><td>null</td><td>null</td><td>null</td><td>1996.0</td><td>null</td><td>null</td><td>null</td><td>null</td><td>null</td><td>null</td><td>null</td><td>null</td><td>5.0</td></tr><tr><td>&quot;25%&quot;</td><td>null</td><td>2017.0</td><td>1.0</td><td>null</td><td>null</td><td>null</td><td>1993.0</td><td>null</td><td>null</td><td>null</td><td>null</td><td>null</td><td>null</td><td>null</td><td>null</td><td>3.0</td></tr><tr><td>&quot;75%&quot;</td><td>null</td><td>2021.0</td><td>2.0</td><td>null</td><td>null</td><td>null</td><td>1999.0</td><td>null</td><td>null</td><td>null</td><td>null</td><td>null</td><td>null</td><td>null</td><td>null</td><td>8.0</td></tr></tbody></table></div>"
      ],
      "text/plain": [
       "shape: (9, 17)\n",
       "┌────────────┬────────────────┬────────────────┬──────────┬───┬─────────────┬────────────────┬──────────────┬──────────┐\n",
       "│ describe   ┆ Código         ┆ Año Matrícula  ┆ Período  ┆ … ┆ Metodologia ┆ Facultad       ┆ Especialidad ┆ Ciclo    │\n",
       "│ ---        ┆ ---            ┆ ---            ┆ ---      ┆   ┆ ---         ┆ ---            ┆ ---          ┆ Relativo │\n",
       "│ str        ┆ str            ┆ f64            ┆ f64      ┆   ┆ str         ┆ str            ┆ str          ┆ ---      │\n",
       "│            ┆                ┆                ┆          ┆   ┆             ┆                ┆              ┆ f64      │\n",
       "╞════════════╪════════════════╪════════════════╪══════════╪═══╪═════════════╪════════════════╪══════════════╪══════════╡\n",
       "│ count      ┆ 163199         ┆ 163199.0       ┆ 163199.0 ┆ … ┆ 163199      ┆ 163199         ┆ 163199       ┆ 163199.0 │\n",
       "│ null_count ┆ 0              ┆ 0.0            ┆ 0.0      ┆ … ┆ 0           ┆ 0              ┆ 0            ┆ 0.0      │\n",
       "│ mean       ┆ null           ┆ 2018.968744    ┆ 1.497282 ┆ … ┆ null        ┆ null           ┆ null         ┆ 5.282863 │\n",
       "│ std        ┆ null           ┆ 1.986794       ┆ 0.499994 ┆ … ┆ null        ┆ null           ┆ null         ┆ 3.088709 │\n",
       "│ min        ┆ 00000e46ea0c41 ┆ 2016.0         ┆ 1.0      ┆ … ┆ Presencial  ┆ ARQUITECTURA,  ┆ ARQUITECTURA ┆ 1.0      │\n",
       "│            ┆ b81d778c6903dd ┆                ┆          ┆   ┆             ┆ URBANISMO Y    ┆              ┆          │\n",
       "│            ┆ e5c3…          ┆                ┆          ┆   ┆             ┆ ARTES          ┆              ┆          │\n",
       "│ max        ┆ fffbb8243bb190 ┆ 2022.0         ┆ 2.0      ┆ … ┆ Presencial  ┆ INGENIERÍA     ┆ QUÍMICA      ┆ 10.0     │\n",
       "│            ┆ ce336cb9ef1570 ┆                ┆          ┆   ┆             ┆ QUÍMICA Y      ┆              ┆          │\n",
       "│            ┆ dfd1…          ┆                ┆          ┆   ┆             ┆ TEXTIL         ┆              ┆          │\n",
       "│ median     ┆ null           ┆ 2019.0         ┆ 1.0      ┆ … ┆ null        ┆ null           ┆ null         ┆ 5.0      │\n",
       "│ 25%        ┆ null           ┆ 2017.0         ┆ 1.0      ┆ … ┆ null        ┆ null           ┆ null         ┆ 3.0      │\n",
       "│ 75%        ┆ null           ┆ 2021.0         ┆ 2.0      ┆ … ┆ null        ┆ null           ┆ null         ┆ 8.0      │\n",
       "└────────────┴────────────────┴────────────────┴──────────┴───┴─────────────┴────────────────┴──────────────┴──────────┘"
      ]
     },
     "execution_count": 11,
     "metadata": {},
     "output_type": "execute_result"
    }
   ],
   "source": [
    "# Calcular estadísticas descriptivas básicas\n",
    "data.describe()\n"
   ]
  },
  {
   "cell_type": "code",
   "execution_count": 13,
   "id": "c3c6cd90",
   "metadata": {},
   "outputs": [
    {
     "data": {
      "text/html": [
       "<div><style>\n",
       ".dataframe > thead > tr > th,\n",
       ".dataframe > tbody > tr > td {\n",
       "  text-align: right;\n",
       "}\n",
       "</style>\n",
       "<small>shape: (22_710, 16)</small><table border=\"1\" class=\"dataframe\"><thead><tr><th>Código</th><th>Año Matrícula</th><th>Período</th><th>Tipo de hecho</th><th>Género</th><th>Nacionalidad</th><th>Año Nacimiento</th><th>Departamento\n",
       "Colegio</th><th>Distrito\n",
       "Residencia</th><th>Provincia\n",
       "Residencia</th><th>Departamento\n",
       "Residencia</th><th>Modalidad</th><th>Metodologia</th><th>Facultad</th><th>Especialidad</th><th>Ciclo Relativo</th></tr><tr><td>str</td><td>i64</td><td>i64</td><td>str</td><td>str</td><td>str</td><td>i64</td><td>str</td><td>str</td><td>str</td><td>str</td><td>str</td><td>str</td><td>str</td><td>str</td><td>i64</td></tr></thead><tbody><tr><td>&quot;eb983f187c0f48…</td><td>2016</td><td>1</td><td>&quot;REGULARES&quot;</td><td>&quot;MASCULINO&quot;</td><td>&quot;Peru&quot;</td><td>1967</td><td>&quot;LIMA&quot;</td><td>&quot;EL AGUSTINO&quot;</td><td>&quot;LIMA&quot;</td><td>&quot;LIMA&quot;</td><td>&quot;Pregrado&quot;</td><td>&quot;Presencial&quot;</td><td>&quot;ARQUITECTURA, …</td><td>&quot;ARQUITECTURA&quot;</td><td>10</td></tr><tr><td>&quot;133807cb215cc4…</td><td>2016</td><td>1</td><td>&quot;REGULARES&quot;</td><td>&quot;MASCULINO&quot;</td><td>&quot;Peru&quot;</td><td>1971</td><td>&quot;LIMA&quot;</td><td>null</td><td>null</td><td>&quot;AMAZONAS&quot;</td><td>&quot;Pregrado&quot;</td><td>&quot;Presencial&quot;</td><td>&quot;INGENIERÍA ELÉ…</td><td>&quot;INGENIERÍA ELE…</td><td>10</td></tr><tr><td>&quot;b851d837273277…</td><td>2016</td><td>1</td><td>&quot;REGULARES&quot;</td><td>&quot;MASCULINO&quot;</td><td>&quot;Peru&quot;</td><td>1965</td><td>&quot;LIMA&quot;</td><td>null</td><td>null</td><td>&quot;AMAZONAS&quot;</td><td>&quot;Pregrado&quot;</td><td>&quot;Presencial&quot;</td><td>&quot;INGENIERÍA ECO…</td><td>&quot;INGENIERÍA ECO…</td><td>10</td></tr><tr><td>&quot;0be12e760d78cb…</td><td>2016</td><td>1</td><td>&quot;REGULARES&quot;</td><td>&quot;MASCULINO&quot;</td><td>&quot;Peru&quot;</td><td>1976</td><td>&quot;LIMA&quot;</td><td>null</td><td>null</td><td>&quot;AMAZONAS&quot;</td><td>&quot;Pregrado&quot;</td><td>&quot;Presencial&quot;</td><td>&quot;CIENCIAS&quot;</td><td>&quot;QUÍMICA&quot;</td><td>10</td></tr><tr><td>&quot;a956c8c66331ef…</td><td>2016</td><td>1</td><td>&quot;PROMOCION&quot;</td><td>&quot;FEMENINO&quot;</td><td>&quot;Peru&quot;</td><td>1982</td><td>&quot;LIMA&quot;</td><td>&quot;LINCE&quot;</td><td>&quot;LIMA&quot;</td><td>&quot;LIMA&quot;</td><td>&quot;Pregrado&quot;</td><td>&quot;Presencial&quot;</td><td>&quot;ARQUITECTURA, …</td><td>&quot;ARQUITECTURA&quot;</td><td>10</td></tr><tr><td>&quot;0ea379ccf07495…</td><td>2016</td><td>1</td><td>&quot;REGULARES&quot;</td><td>&quot;MASCULINO&quot;</td><td>&quot;Peru&quot;</td><td>1981</td><td>&quot;JUNIN&quot;</td><td>&quot;LA MOLINA&quot;</td><td>&quot;LIMA&quot;</td><td>&quot;LIMA&quot;</td><td>&quot;Pregrado&quot;</td><td>&quot;Presencial&quot;</td><td>&quot;ARQUITECTURA, …</td><td>&quot;ARQUITECTURA&quot;</td><td>10</td></tr><tr><td>&quot;146b22f46e10b1…</td><td>2016</td><td>1</td><td>&quot;REGULARES&quot;</td><td>&quot;MASCULINO&quot;</td><td>&quot;Peru&quot;</td><td>1979</td><td>&quot;LIMA&quot;</td><td>null</td><td>null</td><td>&quot;AMAZONAS&quot;</td><td>&quot;Pregrado&quot;</td><td>&quot;Presencial&quot;</td><td>&quot;ARQUITECTURA, …</td><td>&quot;ARQUITECTURA&quot;</td><td>10</td></tr><tr><td>&quot;06560ed35ea8ee…</td><td>2016</td><td>1</td><td>&quot;REGULARES&quot;</td><td>&quot;MASCULINO&quot;</td><td>&quot;Peru&quot;</td><td>1982</td><td>&quot;LIMA&quot;</td><td>&quot;CALLAO&quot;</td><td>&quot;CALLAO&quot;</td><td>&quot;CALLAO&quot;</td><td>&quot;Pregrado&quot;</td><td>&quot;Presencial&quot;</td><td>&quot;INGENIERÍA ECO…</td><td>&quot;INGENIERÍA ECO…</td><td>10</td></tr><tr><td>&quot;68aef49c15a819…</td><td>2016</td><td>1</td><td>&quot;PROMOCION&quot;</td><td>&quot;MASCULINO&quot;</td><td>&quot;Peru&quot;</td><td>1984</td><td>&quot;LIMA&quot;</td><td>&quot;CALLAO&quot;</td><td>&quot;CALLAO&quot;</td><td>&quot;CALLAO&quot;</td><td>&quot;Pregrado&quot;</td><td>&quot;Presencial&quot;</td><td>&quot;ARQUITECTURA, …</td><td>&quot;ARQUITECTURA&quot;</td><td>10</td></tr><tr><td>&quot;f62e4817687852…</td><td>2016</td><td>1</td><td>&quot;REGULARES&quot;</td><td>&quot;MASCULINO&quot;</td><td>&quot;Peru&quot;</td><td>1983</td><td>&quot;CALLAO&quot;</td><td>null</td><td>null</td><td>&quot;AMAZONAS&quot;</td><td>&quot;Pregrado&quot;</td><td>&quot;Presencial&quot;</td><td>&quot;INGENIERÍA CIV…</td><td>&quot;INGENIERÍA CIV…</td><td>10</td></tr><tr><td>&quot;c62bf4757cab2b…</td><td>2016</td><td>1</td><td>&quot;PROMOCION&quot;</td><td>&quot;MASCULINO&quot;</td><td>&quot;Peru&quot;</td><td>1984</td><td>&quot;LIMA&quot;</td><td>&quot;VILLA EL SALVA…</td><td>&quot;LIMA&quot;</td><td>&quot;LIMA&quot;</td><td>&quot;Pregrado&quot;</td><td>&quot;Presencial&quot;</td><td>&quot;INGENIERÍA QUÍ…</td><td>&quot;INGENIERÍA QUÍ…</td><td>10</td></tr><tr><td>&quot;04ca55b1fbfef3…</td><td>2016</td><td>1</td><td>&quot;REGULARES&quot;</td><td>&quot;MASCULINO&quot;</td><td>&quot;Peru&quot;</td><td>1987</td><td>&quot;LIMA&quot;</td><td>&quot;LIMA&quot;</td><td>&quot;LIMA&quot;</td><td>&quot;LIMA&quot;</td><td>&quot;Pregrado&quot;</td><td>&quot;Presencial&quot;</td><td>&quot;INGENIERÍA CIV…</td><td>&quot;INGENIERÍA CIV…</td><td>10</td></tr><tr><td>&hellip;</td><td>&hellip;</td><td>&hellip;</td><td>&hellip;</td><td>&hellip;</td><td>&hellip;</td><td>&hellip;</td><td>&hellip;</td><td>&hellip;</td><td>&hellip;</td><td>&hellip;</td><td>&hellip;</td><td>&hellip;</td><td>&hellip;</td><td>&hellip;</td><td>&hellip;</td></tr><tr><td>&quot;5f4059444018e4…</td><td>2022</td><td>2</td><td>&quot;REGULARES&quot;</td><td>&quot;MASCULINO&quot;</td><td>&quot;Peru&quot;</td><td>1997</td><td>&quot;LIMA&quot;</td><td>&quot;COMAS&quot;</td><td>&quot;LIMA&quot;</td><td>&quot;LIMA&quot;</td><td>&quot;Pregrado&quot;</td><td>&quot;Presencial&quot;</td><td>&quot;CIENCIAS&quot;</td><td>&quot;FÍSICA&quot;</td><td>10</td></tr><tr><td>&quot;552315730a10b6…</td><td>2022</td><td>2</td><td>&quot;PROMOCION&quot;</td><td>&quot;MASCULINO&quot;</td><td>&quot;Peru&quot;</td><td>2001</td><td>&quot;ICA&quot;</td><td>&quot;SAN MARTIN DE …</td><td>&quot;LIMA&quot;</td><td>&quot;LIMA&quot;</td><td>&quot;Pregrado&quot;</td><td>&quot;Presencial&quot;</td><td>&quot;INGENIERÍA MEC…</td><td>&quot;INGENIERÍA MEC…</td><td>10</td></tr><tr><td>&quot;f9f32198710f14…</td><td>2022</td><td>2</td><td>&quot;PROMOCION&quot;</td><td>&quot;FEMENINO&quot;</td><td>&quot;Peru&quot;</td><td>1998</td><td>&quot;LIMA&quot;</td><td>&quot;VILLA MARIA DE…</td><td>&quot;LIMA&quot;</td><td>&quot;LIMA&quot;</td><td>&quot;Pregrado&quot;</td><td>&quot;Presencial&quot;</td><td>&quot;INGENIERÍA ECO…</td><td>&quot;INGENIERÍA EST…</td><td>10</td></tr><tr><td>&quot;1349b4da8af6fd…</td><td>2022</td><td>2</td><td>&quot;PROMOCION&quot;</td><td>&quot;FEMENINO&quot;</td><td>&quot;Peru&quot;</td><td>2000</td><td>&quot;LIMA&quot;</td><td>&quot;SAN MARTIN DE …</td><td>&quot;LIMA&quot;</td><td>&quot;LIMA&quot;</td><td>&quot;Pregrado&quot;</td><td>&quot;Presencial&quot;</td><td>&quot;INGENIERÍA ECO…</td><td>&quot;INGENIERÍA ECO…</td><td>10</td></tr><tr><td>&quot;05c10bbd48734c…</td><td>2022</td><td>2</td><td>&quot;REGULARES&quot;</td><td>&quot;MASCULINO&quot;</td><td>&quot;Peru&quot;</td><td>1991</td><td>&quot;LIMA&quot;</td><td>&quot;SAN JUAN DE LU…</td><td>&quot;LIMA&quot;</td><td>&quot;LIMA&quot;</td><td>&quot;Pregrado&quot;</td><td>&quot;Presencial&quot;</td><td>&quot;INGENIERÍA DE …</td><td>&quot;INGENIERÍA DE …</td><td>10</td></tr><tr><td>&quot;feb6cc1cc54190…</td><td>2022</td><td>2</td><td>&quot;REGULARES&quot;</td><td>&quot;MASCULINO&quot;</td><td>&quot;Peru&quot;</td><td>1996</td><td>&quot;LIMA&quot;</td><td>null</td><td>null</td><td>&quot;AMAZONAS&quot;</td><td>&quot;Pregrado&quot;</td><td>&quot;Presencial&quot;</td><td>&quot;CIENCIAS&quot;</td><td>&quot;QUÍMICA&quot;</td><td>10</td></tr><tr><td>&quot;516f47647889ea…</td><td>2022</td><td>2</td><td>&quot;PROMOCION&quot;</td><td>&quot;MASCULINO&quot;</td><td>&quot;Peru&quot;</td><td>1998</td><td>&quot;LIMA&quot;</td><td>&quot;SAN MARTIN DE …</td><td>&quot;LIMA&quot;</td><td>&quot;LIMA&quot;</td><td>&quot;Pregrado&quot;</td><td>&quot;Presencial&quot;</td><td>&quot;INGENIERÍA ELÉ…</td><td>&quot;INGENIERÍA DE …</td><td>10</td></tr><tr><td>&quot;e1f8aaef53109e…</td><td>2022</td><td>2</td><td>&quot;PROMOCION&quot;</td><td>&quot;MASCULINO&quot;</td><td>&quot;Peru&quot;</td><td>1994</td><td>&quot;AMAZONAS&quot;</td><td>&quot;LOS OLIVOS&quot;</td><td>&quot;LIMA&quot;</td><td>&quot;LIMA&quot;</td><td>&quot;Pregrado&quot;</td><td>&quot;Presencial&quot;</td><td>&quot;INGENIERÍA MEC…</td><td>&quot;INGENIERÍA MEC…</td><td>10</td></tr><tr><td>&quot;a323d208579fbc…</td><td>2022</td><td>2</td><td>&quot;REGULARES&quot;</td><td>&quot;MASCULINO&quot;</td><td>&quot;Peru&quot;</td><td>2000</td><td>&quot;LIMA&quot;</td><td>&quot;SAN MARTIN DE …</td><td>&quot;LIMA&quot;</td><td>&quot;LIMA&quot;</td><td>&quot;Pregrado&quot;</td><td>&quot;Presencial&quot;</td><td>&quot;INGENIERÍA ECO…</td><td>&quot;INGENIERÍA ECO…</td><td>10</td></tr><tr><td>&quot;5b01f0e5e9b3fa…</td><td>2022</td><td>2</td><td>&quot;REGULARES&quot;</td><td>&quot;FEMENINO&quot;</td><td>&quot;Peru&quot;</td><td>1999</td><td>&quot;LIMA&quot;</td><td>null</td><td>null</td><td>&quot;AMAZONAS&quot;</td><td>&quot;Pregrado&quot;</td><td>&quot;Presencial&quot;</td><td>&quot;INGENIERÍA QUÍ…</td><td>&quot;INGENIERÍA QUÍ…</td><td>10</td></tr><tr><td>&quot;124978602a4b5a…</td><td>2022</td><td>2</td><td>&quot;PROMOCION&quot;</td><td>&quot;FEMENINO&quot;</td><td>&quot;Peru&quot;</td><td>1998</td><td>&quot;JUNIN&quot;</td><td>&quot;HUANCAYO&quot;</td><td>&quot;HUANCAYO&quot;</td><td>&quot;JUNIN&quot;</td><td>&quot;Pregrado&quot;</td><td>&quot;Presencial&quot;</td><td>&quot;INGENIERÍA ELÉ…</td><td>&quot;INGENIERÍA ELE…</td><td>10</td></tr><tr><td>&quot;e2081591846fd8…</td><td>2022</td><td>2</td><td>&quot;PROMOCION&quot;</td><td>&quot;MASCULINO&quot;</td><td>&quot;Peru&quot;</td><td>1998</td><td>&quot;LIMA&quot;</td><td>&quot;CALLAO&quot;</td><td>&quot;CALLAO&quot;</td><td>&quot;CALLAO&quot;</td><td>&quot;Pregrado&quot;</td><td>&quot;Presencial&quot;</td><td>&quot;INGENIERÍA ECO…</td><td>&quot;INGENIERÍA ECO…</td><td>10</td></tr></tbody></table></div>"
      ],
      "text/plain": [
       "shape: (22_710, 16)\n",
       "┌────────────────────┬───────────┬─────────┬───────────┬───┬─────────────┬───────────────────┬──────────────┬──────────┐\n",
       "│ Código             ┆ Año       ┆ Período ┆ Tipo de   ┆ … ┆ Metodologia ┆ Facultad          ┆ Especialidad ┆ Ciclo    │\n",
       "│ ---                ┆ Matrícula ┆ ---     ┆ hecho     ┆   ┆ ---         ┆ ---               ┆ ---          ┆ Relativo │\n",
       "│ str                ┆ ---       ┆ i64     ┆ ---       ┆   ┆ str         ┆ str               ┆ str          ┆ ---      │\n",
       "│                    ┆ i64       ┆         ┆ str       ┆   ┆             ┆                   ┆              ┆ i64      │\n",
       "╞════════════════════╪═══════════╪═════════╪═══════════╪═══╪═════════════╪═══════════════════╪══════════════╪══════════╡\n",
       "│ eb983f187c0f481be4 ┆ 2016      ┆ 1       ┆ REGULARES ┆ … ┆ Presencial  ┆ ARQUITECTURA,     ┆ ARQUITECTURA ┆ 10       │\n",
       "│ aa97cbd3ce6613…    ┆           ┆         ┆           ┆   ┆             ┆ URBANISMO Y ARTES ┆              ┆          │\n",
       "│ 133807cb215cc40e95 ┆ 2016      ┆ 1       ┆ REGULARES ┆ … ┆ Presencial  ┆ INGENIERÍA        ┆ INGENIERÍA   ┆ 10       │\n",
       "│ f7ad419f8d4e0e…    ┆           ┆         ┆           ┆   ┆             ┆ ELÉCTRICA Y       ┆ ELECTRÓNICA  ┆          │\n",
       "│                    ┆           ┆         ┆           ┆   ┆             ┆ ELECTRÓNI…        ┆              ┆          │\n",
       "│ b851d837273277685d ┆ 2016      ┆ 1       ┆ REGULARES ┆ … ┆ Presencial  ┆ INGENIERÍA        ┆ INGENIERÍA   ┆ 10       │\n",
       "│ 17f837ef7337b9…    ┆           ┆         ┆           ┆   ┆             ┆ ECONÓMICA,        ┆ ECONÓMICA    ┆          │\n",
       "│                    ┆           ┆         ┆           ┆   ┆             ┆ ESTADÍSTIC…       ┆              ┆          │\n",
       "│ 0be12e760d78cb580b ┆ 2016      ┆ 1       ┆ REGULARES ┆ … ┆ Presencial  ┆ CIENCIAS          ┆ QUÍMICA      ┆ 10       │\n",
       "│ d1d1f8fc0f52c8…    ┆           ┆         ┆           ┆   ┆             ┆                   ┆              ┆          │\n",
       "│ …                  ┆ …         ┆ …       ┆ …         ┆ … ┆ …           ┆ …                 ┆ …            ┆ …        │\n",
       "│ a323d208579fbc2ec1 ┆ 2022      ┆ 2       ┆ REGULARES ┆ … ┆ Presencial  ┆ INGENIERÍA        ┆ INGENIERÍA   ┆ 10       │\n",
       "│ be58a74415273d…    ┆           ┆         ┆           ┆   ┆             ┆ ECONÓMICA,        ┆ ECONÓMICA    ┆          │\n",
       "│                    ┆           ┆         ┆           ┆   ┆             ┆ ESTADÍSTIC…       ┆              ┆          │\n",
       "│ 5b01f0e5e9b3fa6e39 ┆ 2022      ┆ 2       ┆ REGULARES ┆ … ┆ Presencial  ┆ INGENIERÍA        ┆ INGENIERÍA   ┆ 10       │\n",
       "│ bb680358899afc…    ┆           ┆         ┆           ┆   ┆             ┆ QUÍMICA Y TEXTIL  ┆ QUÍMICA      ┆          │\n",
       "│ 124978602a4b5abcaa ┆ 2022      ┆ 2       ┆ PROMOCION ┆ … ┆ Presencial  ┆ INGENIERÍA        ┆ INGENIERÍA   ┆ 10       │\n",
       "│ 7f1ff29cf8549f…    ┆           ┆         ┆           ┆   ┆             ┆ ELÉCTRICA Y       ┆ ELECTRÓNICA  ┆          │\n",
       "│                    ┆           ┆         ┆           ┆   ┆             ┆ ELECTRÓNI…        ┆              ┆          │\n",
       "│ e2081591846fd8513d ┆ 2022      ┆ 2       ┆ PROMOCION ┆ … ┆ Presencial  ┆ INGENIERÍA        ┆ INGENIERÍA   ┆ 10       │\n",
       "│ 4ad316d52e8603…    ┆           ┆         ┆           ┆   ┆             ┆ ECONÓMICA,        ┆ ECONÓMICA    ┆          │\n",
       "│                    ┆           ┆         ┆           ┆   ┆             ┆ ESTADÍSTIC…       ┆              ┆          │\n",
       "└────────────────────┴───────────┴─────────┴───────────┴───┴─────────────┴───────────────────┴──────────────┴──────────┘"
      ]
     },
     "execution_count": 13,
     "metadata": {},
     "output_type": "execute_result"
    }
   ],
   "source": [
    "# Filtrar por condición\n",
    "data.filter(pl.col(\"Ciclo Relativo\") > 9)"
   ]
  },
  {
   "cell_type": "markdown",
   "id": "a2f8383b",
   "metadata": {},
   "source": [
    "## 5. Rendimiento y optimización\n",
    "Polars se destaca por su rendimiento y capacidad de procesar grandes volúmenes de datos de manera eficiente. Algunas estrategias para optimizar el rendimiento incluyen:\n",
    "\n",
    "- Utilizar funciones vectorizadas en lugar de bucles.\n",
    "- Aplicar operaciones en paralelo utilizando múltiples núcleos de CPU.\n",
    "- Utilizar índices para agilizar las operaciones de búsqueda y filtrado.\n",
    " <a id=\"casosdeuso\"></a>\n",
    "- Utilizar Pandas en combinación con Polars: Utilice Pandas para la exploración inicial y el análisis de datos, y luego convierta los datos a Polars para el análisis de datos de alta velocidad.\n",
    "\n",
    "- Usar filtros para reducir la cantidad de datos: Utilice filtros para reducir la cantidad de datos que se procesan en cada paso del análisis, esto mejorará el rendimiento.\n",
    "\n",
    "- Aprovechar la paralelización: Polars está diseñado para aprovechar la paralelización, por lo que puede mejorar el rendimiento utilizando todos los núcleos de su CPU. Puede hacerlo utilizando la opción \"n_workers\" en el constructor de DataFrame.\n",
    "\n",
    "- Usar expresiones lambda: Las expresiones lambda son más eficientes que las funciones definidas por el usuario, ya que no requieren la sobrecarga de llamar a una función adicional."
   ]
  },
  {
   "cell_type": "markdown",
   "id": "eaba3dd9",
   "metadata": {},
   "source": [
    "## 6. Casos de uso y ejemplos prácticos\n",
    "Veamos algunos casos de uso comunes donde Polars es útil:\n",
    "- Manipulación de datos: Polars ofrece una amplia variedad de operaciones de manipulación de datos como filtrado, selección, agrupamiento, ordenamiento, fusión y unión de tablas. Estas operaciones pueden ser utilizadas para transformar y limpiar datos antes de su análisis o visualización. Por ejemplo, se puede utilizar Polars para eliminar duplicados de una tabla, filtrar filas basadas en ciertos criterios, o agregar nuevas columnas basadas en cálculos matemáticos o lógicos.\n",
    "\n",
    "- Análisis de datos: Polars también proporciona herramientas para realizar análisis estadísticos y matemáticos en los datos. Por ejemplo, se puede calcular la media, mediana, desviación estándar y otros estadísticos de una columna. También es posible realizar operaciones de agregación en una tabla, como contar, sumar o promediar los valores de una columna.\n",
    "\n",
    "- Visualización de datos: Polars se integra con varias bibliotecas de visualización de datos para producir gráficos y visualizaciones interactivas. Por ejemplo, se puede utilizar Polars junto con la biblioteca Plotly para crear gráficos de dispersión, diagramas de barras, histogramas y otros tipos de visualizaciones.\n",
    "\n",
    "- Procesamiento de datos en tiempo real: Polars es adecuado para procesamiento de datos en tiempo real, ya que es rápido y eficiente en la manipulación de grandes conjuntos de datos. Esto lo hace ideal para aplicaciones de análisis de datos en tiempo real, como procesamiento de datos de sensores o de eventos.\n",
    "\n",
    "- Ciencia de datos y aprendizaje automático: Polars se puede utilizar en aplicaciones de ciencia de datos y aprendizaje automático, ya que ofrece una variedad de herramientas para manipular y analizar datos. Por ejemplo, se puede utilizar Polars para preparar datos para su uso en modelos de aprendizaje automático o para explorar y visualizar conjuntos de datos grandes.\n",
    "\n",
    "En cada caso de uso, podemos explorar cómo utilizar las funciones de Polars para realizar tareas específicas y obtener información valiosa de los datos."
   ]
  },
  {
   "cell_type": "markdown",
   "id": "2ec0a673",
   "metadata": {},
   "source": [
    "## 7. Conclusiones y recursos adicionales\n",
    "\n",
    "En este tutorial, hemos explorado las capacidades de Polars para el análisis de datos en Python. Aprendimos cómo cargar, manipular y analizar datos utilizando Polars, así como realizar operaciones avanzadas y optimizar el rendimiento. También hemos visto casos de uso y ejemplos prácticos.\n",
    "\n",
    "Para profundizar en Polars, le recomendamos consultar la documentación oficial de Polars y explorar más ejemplos y proyectos en la comunidad de Python.\n",
    "\n",
    "¡Esperamos que este tutorial le haya dado una introducción sólida a Polars y le haya inspirado a utilizarlo en tus proyectos de análisis de datos!"
   ]
  }
 ],
 "metadata": {
  "kernelspec": {
   "display_name": "Python 3 (ipykernel)",
   "language": "python",
   "name": "python3"
  },
  "language_info": {
   "codemirror_mode": {
    "name": "ipython",
    "version": 3
   },
   "file_extension": ".py",
   "mimetype": "text/x-python",
   "name": "python",
   "nbconvert_exporter": "python",
   "pygments_lexer": "ipython3",
   "version": "3.10.9"
  }
 },
 "nbformat": 4,
 "nbformat_minor": 5
}
