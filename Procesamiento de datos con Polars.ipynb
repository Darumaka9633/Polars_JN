{
 "cells": [
  {
   "cell_type": "markdown",
   "id": "502bd5ac",
   "metadata": {},
   "source": [
    "# Análisis de datos eficiente con Python\n",
    "\n",
    "## Introducción\n",
    "\n",
    "En este tutorial, exploraremos Polars, un paquete de Python para el análisis de datos eficiente. Aprenderemos cómo cargar datos, realizar manipulaciones, análisis exploratorio y operaciones avanzadas utilizando Polars.\n",
    "\n",
    "## Índice\n",
    "1) Instalación de Polars\n",
    "2) Carga de datos\n",
    "3) Manipulación de datos\n",
    "4) Análisis exploratorio de datos\n",
    "5) Rendimiento y optimización\n",
    "6) Casos de uso\n",
    "7) Conclusiones y recursos adicionales"
   ]
  },
  {
   "cell_type": "markdown",
   "id": "812c30ee",
   "metadata": {},
   "source": [
    "## 1.Instalación Polars\n",
    "Para empezar, asegúrate de tener Polars instalado en tu entorno. Puedes hacerlo ejecutando el siguiente comando en tu terminal"
   ]
  },
  {
   "cell_type": "code",
   "execution_count": 5,
   "id": "c12ef363",
   "metadata": {},
   "outputs": [
    {
     "name": "stdout",
     "output_type": "stream",
     "text": [
      "Requirement already satisfied: polars in c:\\users\\geisel\\anaconda3\\lib\\site-packages (0.17.13)\n"
     ]
    }
   ],
   "source": [
    "! pip install polars\n"
   ]
  },
  {
   "cell_type": "markdown",
   "id": "9d210371",
   "metadata": {},
   "source": [
    "### Importar Polars\n",
    "Una vez que hayas instalado Polars, puedes importarlo en tu notebook ejecutando la siguiente celda de código:\n"
   ]
  },
  {
   "cell_type": "code",
   "execution_count": 7,
   "id": "dbd4fd6c",
   "metadata": {},
   "outputs": [],
   "source": [
    "import polars as pl"
   ]
  },
  {
   "cell_type": "markdown",
   "id": "700eba7f",
   "metadata": {},
   "source": [
    "## 2.Cargar datos\n",
    "Para esta tarea crearemos un data frame como ejemplo y como manejar algunos datos"
   ]
  },
  {
   "cell_type": "code",
   "execution_count": 8,
   "id": "f76e53b0",
   "metadata": {},
   "outputs": [],
   "source": [
    "data = {\n",
    "    'nombre': ['ismael', 'mario', 'diego', 'francisco'],\n",
    "    'edad': [20, 19, 21, 30],\n",
    "    'carrera': ['Informática', 'ing.sistemas', 'Física', 'Química']\n",
    "}\n",
    "\n",
    "df = pl.DataFrame(data)\n"
   ]
  },
  {
   "cell_type": "markdown",
   "id": "dd025cc4",
   "metadata": {},
   "source": [
    "### Explorar el DataFrame\n",
    "Ahora que tenemos nuestro DataFrame, podemos explorar sus datos. Para mostrar el DataFrame en Jupyter Notebook, simplemente escribimos su nombre en una celda y lo ejecutamos:"
   ]
  },
  {
   "cell_type": "code",
   "execution_count": 9,
   "id": "bcd27271",
   "metadata": {},
   "outputs": [
    {
     "data": {
      "text/html": [
       "<div><style>\n",
       ".dataframe > thead > tr > th,\n",
       ".dataframe > tbody > tr > td {\n",
       "  text-align: right;\n",
       "}\n",
       "</style>\n",
       "<small>shape: (4, 3)</small><table border=\"1\" class=\"dataframe\"><thead><tr><th>nombre</th><th>edad</th><th>carrera</th></tr><tr><td>str</td><td>i64</td><td>str</td></tr></thead><tbody><tr><td>&quot;ismael&quot;</td><td>20</td><td>&quot;Informática&quot;</td></tr><tr><td>&quot;mario&quot;</td><td>19</td><td>&quot;ing.sistemas&quot;</td></tr><tr><td>&quot;diego&quot;</td><td>21</td><td>&quot;Física&quot;</td></tr><tr><td>&quot;francisco&quot;</td><td>30</td><td>&quot;Química&quot;</td></tr></tbody></table></div>"
      ],
      "text/plain": [
       "shape: (4, 3)\n",
       "┌───────────┬──────┬──────────────┐\n",
       "│ nombre    ┆ edad ┆ carrera      │\n",
       "│ ---       ┆ ---  ┆ ---          │\n",
       "│ str       ┆ i64  ┆ str          │\n",
       "╞═══════════╪══════╪══════════════╡\n",
       "│ ismael    ┆ 20   ┆ Informática  │\n",
       "│ mario     ┆ 19   ┆ ing.sistemas │\n",
       "│ diego     ┆ 21   ┆ Física       │\n",
       "│ francisco ┆ 30   ┆ Química      │\n",
       "└───────────┴──────┴──────────────┘"
      ]
     },
     "execution_count": 9,
     "metadata": {},
     "output_type": "execute_result"
    }
   ],
   "source": [
    "df"
   ]
  },
  {
   "cell_type": "markdown",
   "id": "3e586445",
   "metadata": {},
   "source": [
    "## 3. Manipulación de datos\n",
    "Polars proporciona una amplia gama de funciones para manipular y transformar datos. Veamos algunos ejemplos:\n",
    "\n",
    "Selección de columnas:\n"
   ]
  },
  {
   "cell_type": "code",
   "execution_count": 11,
   "id": "3651db76",
   "metadata": {},
   "outputs": [
    {
     "data": {
      "text/html": [
       "<div><style>\n",
       ".dataframe > thead > tr > th,\n",
       ".dataframe > tbody > tr > td {\n",
       "  text-align: right;\n",
       "}\n",
       "</style>\n",
       "<small>shape: (4, 2)</small><table border=\"1\" class=\"dataframe\"><thead><tr><th>nombre</th><th>edad</th></tr><tr><td>str</td><td>i64</td></tr></thead><tbody><tr><td>&quot;ismael&quot;</td><td>20</td></tr><tr><td>&quot;mario&quot;</td><td>19</td></tr><tr><td>&quot;diego&quot;</td><td>21</td></tr><tr><td>&quot;francisco&quot;</td><td>30</td></tr></tbody></table></div>"
      ],
      "text/plain": [
       "shape: (4, 2)\n",
       "┌───────────┬──────┐\n",
       "│ nombre    ┆ edad │\n",
       "│ ---       ┆ ---  │\n",
       "│ str       ┆ i64  │\n",
       "╞═══════════╪══════╡\n",
       "│ ismael    ┆ 20   │\n",
       "│ mario     ┆ 19   │\n",
       "│ diego     ┆ 21   │\n",
       "│ francisco ┆ 30   │\n",
       "└───────────┴──────┘"
      ]
     },
     "execution_count": 11,
     "metadata": {},
     "output_type": "execute_result"
    }
   ],
   "source": [
    "\n",
    "# Seleccionar una columna\n",
    "df.select(\"nombre\")\n",
    "\n",
    "# Seleccionar múltiples columnas\n",
    "df.select([\"nombre\", \"edad\"])"
   ]
  },
  {
   "cell_type": "markdown",
   "id": "db7fc96c",
   "metadata": {},
   "source": [
    "### filtro de datos"
   ]
  },
  {
   "cell_type": "code",
   "execution_count": null,
   "id": "b3f42189",
   "metadata": {},
   "outputs": [],
   "source": [
    "# Filtrar por condición\n",
    "df.filter(pl.col(\"columna1\") > 10)"
   ]
  },
  {
   "cell_type": "markdown",
   "id": "28852c90",
   "metadata": {},
   "source": [
    "### Agregación y resumen de datos"
   ]
  },
  {
   "cell_type": "code",
   "execution_count": null,
   "id": "63f9acf3",
   "metadata": {},
   "outputs": [],
   "source": [
    "# Calcular suma, promedio y conteo\n",
    "df.select(pl.sum(\"columna1\"), pl.avg(\"columna2\"), pl.count(\"columna3\"))"
   ]
  },
  {
   "cell_type": "markdown",
   "id": "2124780e",
   "metadata": {},
   "source": [
    "### Manejo de valores nulos:"
   ]
  },
  {
   "cell_type": "code",
   "execution_count": null,
   "id": "cf4df890",
   "metadata": {},
   "outputs": [],
   "source": [
    "# Filtrar filas con valores nulos\n",
    "df.filter(pl.col(\"columna1\").is_null())\n",
    "\n",
    "# Rellenar valores nulos con un valor específico\n",
    "df.fill_nulls(0)"
   ]
  },
  {
   "cell_type": "markdown",
   "id": "042e1677",
   "metadata": {},
   "source": [
    "## 4. Análisis exploratorio de datos\n",
    "Polars nos permite realizar análisis exploratorio de datos de manera sencilla. Veamos algunos ejemplos:\n",
    "\n",
    "-Estadísticas descriptivas\n",
    "-Visualización de datos utilizando bibliotecas externas\n",
    "-Creación de gráficos utilizando Polars:\n",
    "-Ordenación y clasificación de datos:\n",
    "\n",
    "\n"
   ]
  },
  {
   "cell_type": "code",
   "execution_count": null,
   "id": "463b25a3",
   "metadata": {},
   "outputs": [],
   "source": []
  },
  {
   "cell_type": "code",
   "execution_count": null,
   "id": "53ddb356",
   "metadata": {},
   "outputs": [],
   "source": []
  }
 ],
 "metadata": {
  "kernelspec": {
   "display_name": "Python 3 (ipykernel)",
   "language": "python",
   "name": "python3"
  },
  "language_info": {
   "codemirror_mode": {
    "name": "ipython",
    "version": 3
   },
   "file_extension": ".py",
   "mimetype": "text/x-python",
   "name": "python",
   "nbconvert_exporter": "python",
   "pygments_lexer": "ipython3",
   "version": "3.10.9"
  }
 },
 "nbformat": 4,
 "nbformat_minor": 5
}
